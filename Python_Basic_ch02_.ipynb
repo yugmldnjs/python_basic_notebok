{
 "cells": [
  {
   "cell_type": "code",
   "execution_count": 1,
   "id": "cd2aa8a8",
   "metadata": {},
   "outputs": [
    {
     "name": "stdout",
     "output_type": "stream",
     "text": [
      "아이디:          gmldnjs0317        , 길이: 28\n",
      "아이디: gmldnjs0317, 길이: 11\n"
     ]
    }
   ],
   "source": [
    "# strip() : 문자열의 좌우공백 제거\n",
    "id = \"         gmldnjs0317        \"\n",
    "print(f\"아이디: {id}, 길이: {len(id)}\")\n",
    "print(f\"아이디: {id.strip()}, 길이: {len(id.strip())}\")"
   ]
  },
  {
   "cell_type": "code",
   "execution_count": 5,
   "id": "1039d1c9",
   "metadata": {},
   "outputs": [
    {
     "name": "stdout",
     "output_type": "stream",
     "text": [
      "2\n",
      "3\n",
      "6\n",
      "6\n"
     ]
    }
   ],
   "source": [
    "# find() and rfind()\n",
    "#   - 문자열 내부의 특정 문자의 인덱스를 출력\n",
    "str = \"Hello Python\"\n",
    "print(str.find(\"l\"))\n",
    "print(str.rfind(\"l\"))\n",
    "print(str.find(\"Python\"))\n",
    "print(str.rfind(\"Python\"))"
   ]
  },
  {
   "cell_type": "code",
   "execution_count": 6,
   "id": "90e72d7a",
   "metadata": {},
   "outputs": [
    {
     "name": "stdout",
     "output_type": "stream",
     "text": [
      "True\n",
      "False\n"
     ]
    }
   ],
   "source": [
    "# in() : 특정 문장열을 포함하고 있는지 확인(True, False)\n",
    "\n",
    "print(\"Hi\" in \"Hi Python\")\n",
    "print(\"Hi\" in \"Hello Python\")"
   ]
  }
 ],
 "metadata": {
  "kernelspec": {
   "display_name": "Python 3 (ipykernel)",
   "language": "python",
   "name": "python3"
  },
  "language_info": {
   "codemirror_mode": {
    "name": "ipython",
    "version": 3
   },
   "file_extension": ".py",
   "mimetype": "text/x-python",
   "name": "python",
   "nbconvert_exporter": "python",
   "pygments_lexer": "ipython3",
   "version": "3.9.7"
  }
 },
 "nbformat": 4,
 "nbformat_minor": 5
}
